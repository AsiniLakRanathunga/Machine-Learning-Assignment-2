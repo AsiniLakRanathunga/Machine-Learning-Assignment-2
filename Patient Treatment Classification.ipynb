{
 "cells": [
  {
   "cell_type": "code",
   "execution_count": 1,
   "id": "c9feaf95",
   "metadata": {},
   "outputs": [],
   "source": [
    "import pandas as pd\n",
    "# Use numpy to convert to arrays\n",
    "import numpy as np\n",
    "# Using Skicit-learn to split data into training and testing sets\n",
    "from sklearn.model_selection import train_test_split\n",
    "#import the RandomForestClassifier\n",
    "from sklearn.ensemble import RandomForestClassifier\n",
    "from sklearn.metrics import accuracy_score, classification_report,confusion_matrix, ConfusionMatrixDisplay\n",
    "from sklearn import metrics\n",
    "import matplotlib.pyplot as plt"
   ]
  },
  {
   "cell_type": "code",
   "execution_count": 2,
   "id": "f6dacad4",
   "metadata": {},
   "outputs": [
    {
     "name": "stdout",
     "output_type": "stream",
     "text": [
      "Shape of dataset is: (3309, 11)\n"
     ]
    }
   ],
   "source": [
    "data_set = pd.read_csv('C:\\\\Users\\\\User\\\\Documents\\\\MSC Modules\\\\3rd Sem\\\\ML\\\\Assignment 02\\\\Patient Treatment Classification.csv')\n",
    "print('Shape of dataset is:', data_set.shape)"
   ]
  },
  {
   "cell_type": "code",
   "execution_count": 3,
   "id": "16bacc24",
   "metadata": {},
   "outputs": [
    {
     "data": {
      "text/html": [
       "<div>\n",
       "<style scoped>\n",
       "    .dataframe tbody tr th:only-of-type {\n",
       "        vertical-align: middle;\n",
       "    }\n",
       "\n",
       "    .dataframe tbody tr th {\n",
       "        vertical-align: top;\n",
       "    }\n",
       "\n",
       "    .dataframe thead th {\n",
       "        text-align: right;\n",
       "    }\n",
       "</style>\n",
       "<table border=\"1\" class=\"dataframe\">\n",
       "  <thead>\n",
       "    <tr style=\"text-align: right;\">\n",
       "      <th></th>\n",
       "      <th>HAEMATOCRIT</th>\n",
       "      <th>HAEMOGLOBINS</th>\n",
       "      <th>ERYTHROCYTE</th>\n",
       "      <th>LEUCOCYTE</th>\n",
       "      <th>THROMBOCYTE</th>\n",
       "      <th>MCH</th>\n",
       "      <th>MCHC</th>\n",
       "      <th>MCV</th>\n",
       "      <th>AGE</th>\n",
       "      <th>SEX</th>\n",
       "      <th>SOURCE</th>\n",
       "    </tr>\n",
       "  </thead>\n",
       "  <tbody>\n",
       "    <tr>\n",
       "      <th>count</th>\n",
       "      <td>3309.000000</td>\n",
       "      <td>3309.000000</td>\n",
       "      <td>3309.000000</td>\n",
       "      <td>3309.000000</td>\n",
       "      <td>3309.000000</td>\n",
       "      <td>3309.000000</td>\n",
       "      <td>3309.000000</td>\n",
       "      <td>3309.000000</td>\n",
       "      <td>3309.000000</td>\n",
       "      <td>3309.000000</td>\n",
       "      <td>3309.000000</td>\n",
       "    </tr>\n",
       "    <tr>\n",
       "      <th>mean</th>\n",
       "      <td>38.226111</td>\n",
       "      <td>12.749350</td>\n",
       "      <td>4.544802</td>\n",
       "      <td>8.715533</td>\n",
       "      <td>258.893019</td>\n",
       "      <td>28.230039</td>\n",
       "      <td>33.336476</td>\n",
       "      <td>84.611333</td>\n",
       "      <td>46.644303</td>\n",
       "      <td>0.526745</td>\n",
       "      <td>0.398005</td>\n",
       "    </tr>\n",
       "    <tr>\n",
       "      <th>std</th>\n",
       "      <td>5.971943</td>\n",
       "      <td>2.084325</td>\n",
       "      <td>0.784510</td>\n",
       "      <td>4.991299</td>\n",
       "      <td>112.676139</td>\n",
       "      <td>2.696520</td>\n",
       "      <td>1.247055</td>\n",
       "      <td>6.916079</td>\n",
       "      <td>21.874106</td>\n",
       "      <td>0.499360</td>\n",
       "      <td>0.489561</td>\n",
       "    </tr>\n",
       "    <tr>\n",
       "      <th>min</th>\n",
       "      <td>13.700000</td>\n",
       "      <td>3.800000</td>\n",
       "      <td>1.480000</td>\n",
       "      <td>1.100000</td>\n",
       "      <td>10.000000</td>\n",
       "      <td>14.900000</td>\n",
       "      <td>26.000000</td>\n",
       "      <td>54.000000</td>\n",
       "      <td>1.000000</td>\n",
       "      <td>0.000000</td>\n",
       "      <td>0.000000</td>\n",
       "    </tr>\n",
       "    <tr>\n",
       "      <th>25%</th>\n",
       "      <td>34.300000</td>\n",
       "      <td>11.400000</td>\n",
       "      <td>4.040000</td>\n",
       "      <td>5.700000</td>\n",
       "      <td>191.000000</td>\n",
       "      <td>27.200000</td>\n",
       "      <td>32.700000</td>\n",
       "      <td>81.500000</td>\n",
       "      <td>29.000000</td>\n",
       "      <td>0.000000</td>\n",
       "      <td>0.000000</td>\n",
       "    </tr>\n",
       "    <tr>\n",
       "      <th>50%</th>\n",
       "      <td>38.700000</td>\n",
       "      <td>12.900000</td>\n",
       "      <td>4.580000</td>\n",
       "      <td>7.600000</td>\n",
       "      <td>257.000000</td>\n",
       "      <td>28.700000</td>\n",
       "      <td>33.400000</td>\n",
       "      <td>85.300000</td>\n",
       "      <td>48.000000</td>\n",
       "      <td>1.000000</td>\n",
       "      <td>0.000000</td>\n",
       "    </tr>\n",
       "    <tr>\n",
       "      <th>75%</th>\n",
       "      <td>42.500000</td>\n",
       "      <td>14.200000</td>\n",
       "      <td>5.060000</td>\n",
       "      <td>10.300000</td>\n",
       "      <td>322.000000</td>\n",
       "      <td>29.800000</td>\n",
       "      <td>34.100000</td>\n",
       "      <td>88.800000</td>\n",
       "      <td>64.000000</td>\n",
       "      <td>1.000000</td>\n",
       "      <td>1.000000</td>\n",
       "    </tr>\n",
       "    <tr>\n",
       "      <th>max</th>\n",
       "      <td>69.000000</td>\n",
       "      <td>18.900000</td>\n",
       "      <td>7.860000</td>\n",
       "      <td>76.600000</td>\n",
       "      <td>1121.000000</td>\n",
       "      <td>40.800000</td>\n",
       "      <td>38.400000</td>\n",
       "      <td>115.600000</td>\n",
       "      <td>99.000000</td>\n",
       "      <td>1.000000</td>\n",
       "      <td>1.000000</td>\n",
       "    </tr>\n",
       "  </tbody>\n",
       "</table>\n",
       "</div>"
      ],
      "text/plain": [
       "       HAEMATOCRIT  HAEMOGLOBINS  ERYTHROCYTE    LEUCOCYTE  THROMBOCYTE  \\\n",
       "count  3309.000000   3309.000000  3309.000000  3309.000000  3309.000000   \n",
       "mean     38.226111     12.749350     4.544802     8.715533   258.893019   \n",
       "std       5.971943      2.084325     0.784510     4.991299   112.676139   \n",
       "min      13.700000      3.800000     1.480000     1.100000    10.000000   \n",
       "25%      34.300000     11.400000     4.040000     5.700000   191.000000   \n",
       "50%      38.700000     12.900000     4.580000     7.600000   257.000000   \n",
       "75%      42.500000     14.200000     5.060000    10.300000   322.000000   \n",
       "max      69.000000     18.900000     7.860000    76.600000  1121.000000   \n",
       "\n",
       "               MCH         MCHC          MCV          AGE          SEX  \\\n",
       "count  3309.000000  3309.000000  3309.000000  3309.000000  3309.000000   \n",
       "mean     28.230039    33.336476    84.611333    46.644303     0.526745   \n",
       "std       2.696520     1.247055     6.916079    21.874106     0.499360   \n",
       "min      14.900000    26.000000    54.000000     1.000000     0.000000   \n",
       "25%      27.200000    32.700000    81.500000    29.000000     0.000000   \n",
       "50%      28.700000    33.400000    85.300000    48.000000     1.000000   \n",
       "75%      29.800000    34.100000    88.800000    64.000000     1.000000   \n",
       "max      40.800000    38.400000   115.600000    99.000000     1.000000   \n",
       "\n",
       "            SOURCE  \n",
       "count  3309.000000  \n",
       "mean      0.398005  \n",
       "std       0.489561  \n",
       "min       0.000000  \n",
       "25%       0.000000  \n",
       "50%       0.000000  \n",
       "75%       1.000000  \n",
       "max       1.000000  "
      ]
     },
     "execution_count": 3,
     "metadata": {},
     "output_type": "execute_result"
    }
   ],
   "source": [
    "data_set.describe()"
   ]
  },
  {
   "cell_type": "code",
   "execution_count": 4,
   "id": "693f35e9",
   "metadata": {},
   "outputs": [
    {
     "data": {
      "text/html": [
       "<div>\n",
       "<style scoped>\n",
       "    .dataframe tbody tr th:only-of-type {\n",
       "        vertical-align: middle;\n",
       "    }\n",
       "\n",
       "    .dataframe tbody tr th {\n",
       "        vertical-align: top;\n",
       "    }\n",
       "\n",
       "    .dataframe thead th {\n",
       "        text-align: right;\n",
       "    }\n",
       "</style>\n",
       "<table border=\"1\" class=\"dataframe\">\n",
       "  <thead>\n",
       "    <tr style=\"text-align: right;\">\n",
       "      <th></th>\n",
       "      <th>HAEMATOCRIT</th>\n",
       "      <th>HAEMOGLOBINS</th>\n",
       "      <th>ERYTHROCYTE</th>\n",
       "      <th>LEUCOCYTE</th>\n",
       "      <th>THROMBOCYTE</th>\n",
       "      <th>MCH</th>\n",
       "      <th>MCHC</th>\n",
       "      <th>MCV</th>\n",
       "      <th>AGE</th>\n",
       "      <th>SEX</th>\n",
       "      <th>SOURCE</th>\n",
       "    </tr>\n",
       "  </thead>\n",
       "  <tbody>\n",
       "  </tbody>\n",
       "</table>\n",
       "</div>"
      ],
      "text/plain": [
       "Empty DataFrame\n",
       "Columns: [HAEMATOCRIT, HAEMOGLOBINS, ERYTHROCYTE, LEUCOCYTE, THROMBOCYTE, MCH, MCHC, MCV, AGE, SEX, SOURCE]\n",
       "Index: []"
      ]
     },
     "execution_count": 4,
     "metadata": {},
     "output_type": "execute_result"
    }
   ],
   "source": [
    "data_set[pd.isnull(data_set).any(axis=1)]"
   ]
  },
  {
   "cell_type": "code",
   "execution_count": 5,
   "id": "f21d1d07",
   "metadata": {},
   "outputs": [
    {
     "data": {
      "text/html": [
       "<div>\n",
       "<style scoped>\n",
       "    .dataframe tbody tr th:only-of-type {\n",
       "        vertical-align: middle;\n",
       "    }\n",
       "\n",
       "    .dataframe tbody tr th {\n",
       "        vertical-align: top;\n",
       "    }\n",
       "\n",
       "    .dataframe thead th {\n",
       "        text-align: right;\n",
       "    }\n",
       "</style>\n",
       "<table border=\"1\" class=\"dataframe\">\n",
       "  <thead>\n",
       "    <tr style=\"text-align: right;\">\n",
       "      <th></th>\n",
       "      <th>HAEMATOCRIT</th>\n",
       "      <th>HAEMOGLOBINS</th>\n",
       "      <th>ERYTHROCYTE</th>\n",
       "      <th>LEUCOCYTE</th>\n",
       "      <th>THROMBOCYTE</th>\n",
       "      <th>MCH</th>\n",
       "      <th>MCHC</th>\n",
       "      <th>MCV</th>\n",
       "      <th>AGE</th>\n",
       "      <th>SEX</th>\n",
       "      <th>SOURCE</th>\n",
       "    </tr>\n",
       "  </thead>\n",
       "  <tbody>\n",
       "    <tr>\n",
       "      <th>0</th>\n",
       "      <td>False</td>\n",
       "      <td>False</td>\n",
       "      <td>False</td>\n",
       "      <td>False</td>\n",
       "      <td>False</td>\n",
       "      <td>False</td>\n",
       "      <td>False</td>\n",
       "      <td>False</td>\n",
       "      <td>False</td>\n",
       "      <td>False</td>\n",
       "      <td>False</td>\n",
       "    </tr>\n",
       "    <tr>\n",
       "      <th>1</th>\n",
       "      <td>False</td>\n",
       "      <td>False</td>\n",
       "      <td>False</td>\n",
       "      <td>False</td>\n",
       "      <td>False</td>\n",
       "      <td>False</td>\n",
       "      <td>False</td>\n",
       "      <td>False</td>\n",
       "      <td>False</td>\n",
       "      <td>False</td>\n",
       "      <td>False</td>\n",
       "    </tr>\n",
       "    <tr>\n",
       "      <th>2</th>\n",
       "      <td>False</td>\n",
       "      <td>False</td>\n",
       "      <td>False</td>\n",
       "      <td>False</td>\n",
       "      <td>False</td>\n",
       "      <td>False</td>\n",
       "      <td>False</td>\n",
       "      <td>False</td>\n",
       "      <td>False</td>\n",
       "      <td>False</td>\n",
       "      <td>False</td>\n",
       "    </tr>\n",
       "    <tr>\n",
       "      <th>3</th>\n",
       "      <td>False</td>\n",
       "      <td>False</td>\n",
       "      <td>False</td>\n",
       "      <td>False</td>\n",
       "      <td>False</td>\n",
       "      <td>False</td>\n",
       "      <td>False</td>\n",
       "      <td>False</td>\n",
       "      <td>False</td>\n",
       "      <td>False</td>\n",
       "      <td>False</td>\n",
       "    </tr>\n",
       "    <tr>\n",
       "      <th>4</th>\n",
       "      <td>False</td>\n",
       "      <td>False</td>\n",
       "      <td>False</td>\n",
       "      <td>False</td>\n",
       "      <td>False</td>\n",
       "      <td>False</td>\n",
       "      <td>False</td>\n",
       "      <td>False</td>\n",
       "      <td>False</td>\n",
       "      <td>False</td>\n",
       "      <td>False</td>\n",
       "    </tr>\n",
       "  </tbody>\n",
       "</table>\n",
       "</div>"
      ],
      "text/plain": [
       "   HAEMATOCRIT  HAEMOGLOBINS  ERYTHROCYTE  LEUCOCYTE  THROMBOCYTE    MCH  \\\n",
       "0        False         False        False      False        False  False   \n",
       "1        False         False        False      False        False  False   \n",
       "2        False         False        False      False        False  False   \n",
       "3        False         False        False      False        False  False   \n",
       "4        False         False        False      False        False  False   \n",
       "\n",
       "    MCHC    MCV    AGE    SEX  SOURCE  \n",
       "0  False  False  False  False   False  \n",
       "1  False  False  False  False   False  \n",
       "2  False  False  False  False   False  \n",
       "3  False  False  False  False   False  \n",
       "4  False  False  False  False   False  "
      ]
     },
     "execution_count": 5,
     "metadata": {},
     "output_type": "execute_result"
    }
   ],
   "source": [
    "pd.isnull(data_set).head()"
   ]
  },
  {
   "cell_type": "code",
   "execution_count": 6,
   "id": "30e5a4bc",
   "metadata": {},
   "outputs": [
    {
     "data": {
      "text/plain": [
       "0       False\n",
       "1       False\n",
       "2       False\n",
       "3       False\n",
       "4       False\n",
       "        ...  \n",
       "3304    False\n",
       "3305    False\n",
       "3306    False\n",
       "3307    False\n",
       "3308    False\n",
       "Length: 3309, dtype: bool"
      ]
     },
     "execution_count": 6,
     "metadata": {},
     "output_type": "execute_result"
    }
   ],
   "source": [
    "data_set.duplicated()"
   ]
  },
  {
   "cell_type": "code",
   "execution_count": 7,
   "id": "50b806fc",
   "metadata": {},
   "outputs": [
    {
     "name": "stdout",
     "output_type": "stream",
     "text": [
      "['HAEMATOCRIT', 'HAEMOGLOBINS', 'ERYTHROCYTE', 'LEUCOCYTE', 'THROMBOCYTE', 'MCH', 'MCHC', 'MCV', 'AGE', 'SEX']\n"
     ]
    }
   ],
   "source": [
    "# Labels are the values we want to predict\n",
    "labels = np.array(data_set['SOURCE'])\n",
    "# Remove the labels from the features\n",
    "# axis 1 refers to the columns\n",
    "data_set= data_set.drop('SOURCE', axis = 1)\n",
    "# Saving feature names for later use\n",
    "feature_list = list(data_set.columns)\n",
    "print(feature_list)"
   ]
  },
  {
   "cell_type": "code",
   "execution_count": 8,
   "id": "385ebe5d",
   "metadata": {},
   "outputs": [],
   "source": [
    "data_set = np.array(data_set)"
   ]
  },
  {
   "cell_type": "code",
   "execution_count": 9,
   "id": "d6f8278d",
   "metadata": {},
   "outputs": [],
   "source": [
    "# Split the data into training and testing sets\n",
    "#x_train, x_test, y_train, y_test\n",
    "train_dataset, test_dataset, train_labels, test_labels = train_test_split(data_set, labels, test_size = 0.25, random_state = 42)"
   ]
  },
  {
   "cell_type": "code",
   "execution_count": 10,
   "id": "0ac5a81a",
   "metadata": {},
   "outputs": [
    {
     "name": "stdout",
     "output_type": "stream",
     "text": [
      "Shape of training dataset: (2481, 10)\n",
      "Number of records selected for training: (2481,)\n",
      "Shape of testing dataset: (828, 10)\n",
      "Number of records selected for testing: (828,)\n"
     ]
    }
   ],
   "source": [
    "print('Shape of training dataset:', train_dataset.shape)\n",
    "print('Number of records selected for training:', train_labels.shape)\n",
    "print('Shape of testing dataset:', test_dataset.shape)\n",
    "print('Number of records selected for testing:', test_labels.shape)"
   ]
  },
  {
   "cell_type": "code",
   "execution_count": 11,
   "id": "af06629d",
   "metadata": {},
   "outputs": [],
   "source": [
    "# Instantiate model with 1000 decision trees\n",
    "rf = RandomForestClassifier(n_estimators = 1000, random_state = 42)\n",
    "# Train the model on training dataset\n",
    "rf.fit(train_dataset, train_labels);"
   ]
  },
  {
   "cell_type": "code",
   "execution_count": 12,
   "id": "0dfd159f",
   "metadata": {},
   "outputs": [
    {
     "name": "stdout",
     "output_type": "stream",
     "text": [
      "Mean Absolute Error: 0.24 degrees.\n"
     ]
    }
   ],
   "source": [
    "# Use the forest's predict method on the test dataset\n",
    "predictions = rf.predict(test_dataset)\n",
    "# Calculate the absolute errors\n",
    "errors = abs(predictions - test_labels)\n",
    "# Print out the mean absolute error\n",
    "print('Mean Absolute Error:', round(np.mean(errors), 2), 'degrees.')"
   ]
  },
  {
   "cell_type": "code",
   "execution_count": 13,
   "id": "d998a91b",
   "metadata": {},
   "outputs": [
    {
     "name": "stdout",
     "output_type": "stream",
     "text": [
      "Accuracy: 0.76 %.\n"
     ]
    }
   ],
   "source": [
    "# Calculate and display accuracy\n",
    "accuracy = accuracy_score(test_labels, predictions)\n",
    "print('Accuracy:', round(accuracy, 2), '%.')"
   ]
  },
  {
   "cell_type": "code",
   "execution_count": 14,
   "id": "0b04430b",
   "metadata": {},
   "outputs": [
    {
     "name": "stdout",
     "output_type": "stream",
     "text": [
      "              precision    recall  f1-score   support\n",
      "\n",
      "           0       0.76      0.87      0.81       502\n",
      "           1       0.75      0.58      0.66       326\n",
      "\n",
      "    accuracy                           0.76       828\n",
      "   macro avg       0.76      0.73      0.73       828\n",
      "weighted avg       0.76      0.76      0.75       828\n",
      "\n"
     ]
    }
   ],
   "source": [
    "classificationReport = classification_report(test_labels, predictions)\n",
    "print(classificationReport)"
   ]
  },
  {
   "cell_type": "code",
   "execution_count": 15,
   "id": "3f1e0c60",
   "metadata": {},
   "outputs": [
    {
     "data": {
      "image/png": "[encoded data removed]",
      "text/plain": [
       "<Figure size 640x480 with 2 Axes>"
      ]
     },
     "metadata": {},
     "output_type": "display_data"
    }
   ],
   "source": [
    "cm_display = metrics.ConfusionMatrixDisplay(confusion_matrix = confusion_matrix(test_labels, predictions))\n",
    "cm_display.plot()\n",
    "plt.show()"
   ]
  }
 ],
 "metadata": {
  "kernelspec": {
   "display_name": "Python 3 (ipykernel)",
   "language": "python",
   "name": "python3"
  },
  "language_info": {
   "codemirror_mode": {
    "name": "ipython",
    "version": 3
   },
   "file_extension": ".py",
   "mimetype": "text/x-python",
   "name": "python",
   "nbconvert_exporter": "python",
   "pygments_lexer": "ipython3",
   "version": "3.11.3"
  }
 },
 "nbformat": 4,
 "nbformat_minor": 5
}
